{
 "cells": [
  {
   "cell_type": "markdown",
   "source": [
    "# 马尔可夫决策过程\n",
    "## 马尔可夫过程\n",
    "### 随机过程\n",
    "**随机过程**(stochastic process) 是概率论的“动力学”部分。\n",
    "- 概率论：概率论的研究对象是静态的随机现象\n",
    "- 随机过程：随机过程的研究对象是随机现象的动态演变规律（例如天气随时间的变化、城市交通随时间的变化等）\n",
    "在随机过程中，随机现象在某时刻$t$的取值是一个向量随机变量，用$S_t$表示，所有可能的状态组成状态空间$S$。随机现象辨识状态的变化过程。在某时刻$t$的状态$S_t$通常取决于$t$时刻之前的状态。我们将已知历史信息$(S_1,\\ldots,S_{t-1})$时下一个时刻状态为$S_{t+1}$的概率表示成 $P(S_{t+1} | S_1,\\ldots,S_t)$。\n",
    "### 马尔可夫性质\n",
    "当且仅当某时刻的状态只取决于上一时刻的状态时，一个随机过程可称为具有马尔可夫性质(Markov property)，用公式表示为$P(S_{t+1} | S_{t})=P(S_{t+1}|S_1,\\ldots,S_{t})$ 。\n",
    "也就是说，当前状态是未来的充分统计量，即下一个状态只取决于当前状态，而不会收到过去状态的影响。\n",
    "> 需要明确的是，具有马尔可夫性并不代表这个随机过程就和历史完全没有关系。因为虽然$t+1$时刻的状态只与$t$时刻的状态有关，但是$t$时刻的状态其实包含了$t-1$时刻的状态信息，通过这种链式的关系，历史的信息被传递到现在。\n",
    "### 马尔可夫过程\n",
    "**马尔可夫过程**(Markov process) 指具有马尔可夫性质的随机过程，也被称为**马尔可夫链**(Markove chain)。我们通常用元组$(S,P)$来表示一个马尔可夫过程，其中$S$是状态空间，$P$是状态转移概率矩阵。状态转移概率矩阵$P$是一个矩阵，其中$P_{ij}$表示从状态$i$转移到状态$j$的概率。"
   ],
   "metadata": {
    "collapsed": false
   },
   "id": "96e221d5f0fcd30b"
  },
  {
   "cell_type": "code",
   "outputs": [
    {
     "name": "stdout",
     "output_type": "stream",
     "text": [
      "Return starting from state 1:  -2.5\n"
     ]
    }
   ],
   "source": [
    "import numpy as np\n",
    "np.random.seed(0)\n",
    "P = [\n",
    "    [0.9, 0.1, 0.0, 0.0, 0.0, 0.0],\n",
    "    [0.5, 0.0, 0.5, 0.0, 0.0, 0.0],\n",
    "    [0.0, 0.0, 0.0, 0.6, 0.0, 0.4],\n",
    "    [0.0, 0.0, 0.0, 0.0, 0.3, 0.7],\n",
    "    [0.0, 0.2, 0.3, 0.5, 0.0, 0.0],\n",
    "    [0.0, 0.0, 0.0, 0.0, 0.0, 1.0],\n",
    "]\n",
    "P = np.array(P)\n",
    "\n",
    "rewards = [-1, -2, -2, 10, 1, 0]\n",
    "gamma = 0.5     # 折扣因子\n",
    "\n",
    "\n",
    "def compute_return(start_index, chain, gamma):\n",
    "    G = 0\n",
    "    for i in reversed(range(start_index, len(chain))):\n",
    "        G = gamma * G + rewards[chain[i]-1]\n",
    "    return G\n",
    "\n",
    "\n",
    "chain =[1, 2, 3, 6]\n",
    "start_index = 0\n",
    "G = compute_return(start_index, chain, gamma)\n",
    "print(\"Return starting from state 1: \", G)"
   ],
   "metadata": {
    "collapsed": true,
    "ExecuteTime": {
     "end_time": "2024-02-09T06:16:28.434772700Z",
     "start_time": "2024-02-09T06:16:28.396888300Z"
    }
   },
   "id": "initial_id",
   "execution_count": 2
  },
  {
   "cell_type": "markdown",
   "source": [
    "### 价值函数\n",
    "**价值** (Value)：在马尔可夫奖励过程中，一个状态的期望回报（即从这个状态触发的未来累积奖励的期望）被称为这个状态的价值\n",
    "所有状态的价值就组成了**价值函数** (Value Function)。价值函数的输入为某个状态，输出为这个状态的价值。价值函数写成：$$V(s)=\\mathbb{E}[G_{t}|S_{t}=s]$$，"
   ],
   "metadata": {
    "collapsed": false
   },
   "id": "7d0fb784375b5954"
  },
  {
   "cell_type": "code",
   "outputs": [],
   "source": [
    "def compute(P, rewards, gamma, states_num):\n",
    "    rewards = np.array(rewards).reshape((-1,1)) # 将rewards写成列向量形式\n",
    "    value = np.dot(np.linalg.inv(np.eye(states_num, states_num) - gamma * P), rewards)\n",
    "    return value"
   ],
   "metadata": {
    "collapsed": false,
    "ExecuteTime": {
     "end_time": "2024-02-09T06:16:28.436847600Z",
     "start_time": "2024-02-09T06:16:28.421620400Z"
    }
   },
   "id": "be9ca3af28e5803f",
   "execution_count": 3
  },
  {
   "cell_type": "code",
   "outputs": [
    {
     "name": "stdout",
     "output_type": "stream",
     "text": [
      "MRP中每个状态价值分别为\n",
      " [[-2.01950168]\n",
      " [-2.21451846]\n",
      " [ 1.16142785]\n",
      " [10.53809283]\n",
      " [ 3.58728554]\n",
      " [ 0.        ]]\n"
     ]
    }
   ],
   "source": [
    "V = compute(P, rewards, gamma, 6)\n",
    "print(\"MRP中每个状态价值分别为\\n\",V)"
   ],
   "metadata": {
    "collapsed": false,
    "ExecuteTime": {
     "end_time": "2024-02-09T06:16:28.493745900Z",
     "start_time": "2024-02-09T06:16:28.441731700Z"
    }
   },
   "id": "68273974dfaeb28e",
   "execution_count": 4
  },
  {
   "cell_type": "markdown",
   "source": [
    "## 马尔可夫决策过程\n",
    "马尔可夫过程和马尔可夫奖励过程都是**自发改变**的随机过程；而如果有一个外界的“刺激”来共同改变这个随机过程，就有了**马尔可夫决策过程**(Markov decision process, MDP)。"
   ],
   "metadata": {
    "collapsed": false
   },
   "id": "6299c1ae5c9d1c6b"
  }
 ],
 "metadata": {
  "kernelspec": {
   "display_name": "Python 3",
   "language": "python",
   "name": "python3"
  },
  "language_info": {
   "codemirror_mode": {
    "name": "ipython",
    "version": 2
   },
   "file_extension": ".py",
   "mimetype": "text/x-python",
   "name": "python",
   "nbconvert_exporter": "python",
   "pygments_lexer": "ipython2",
   "version": "2.7.6"
  }
 },
 "nbformat": 4,
 "nbformat_minor": 5
}

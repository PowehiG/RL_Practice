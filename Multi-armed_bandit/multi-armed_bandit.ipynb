{
 "cells": [
  {
   "cell_type": "markdown",
   "source": [
    "# 多臂老虎机问题\n",
    "\n",
    "以下为引入所需库"
   ],
   "metadata": {
    "collapsed": false
   },
   "id": "1dde5f803f904655"
  },
  {
   "cell_type": "code",
   "outputs": [],
   "source": [
    "import numpy as np\n",
    "import matplotlib.pyplot as plt"
   ],
   "metadata": {
    "collapsed": false,
    "ExecuteTime": {
     "end_time": "2024-02-07T03:52:07.843277700Z",
     "start_time": "2024-02-07T03:52:06.503796300Z"
    }
   },
   "id": "18f3324bb5b8adbd",
   "execution_count": 3
  },
  {
   "cell_type": "markdown",
   "source": [
    "## 问题模型\n",
    "伯努利多臂老虎机模型"
   ],
   "metadata": {
    "collapsed": false
   },
   "id": "750b70933716d7d"
  },
  {
   "cell_type": "code",
   "outputs": [],
   "source": [
    "class BernoulliBandit:\n",
    "    \"\"\"伯努利多臂老虎机\"\"\"\n",
    "    def __init__(self, k):\n",
    "        # K对应老虎机的数量\n",
    "        self.probs = np.random.uniform(size=k)  # 随机生成K个概率\n",
    "        self.best_idx = np.argmax(self.probs)   # 获取概率最大的老虎机的索引\n",
    "        self.best_prob = self.probs[self.best_idx]  # 获取最大概率\n",
    "        self.K = k\n",
    "\n",
    "    def step(self, k):\n",
    "        # 拉动第k个臂，返回1或0（随机判断是否获奖）\n",
    "        if np.random.rand() < self.probs[k]:\n",
    "            return 1\n",
    "        else:\n",
    "            return 0"
   ],
   "metadata": {
    "collapsed": false,
    "ExecuteTime": {
     "end_time": "2024-02-07T03:52:07.855937500Z",
     "start_time": "2024-02-07T03:52:07.849784100Z"
    }
   },
   "id": "7c4419a63780edff",
   "execution_count": 4
  },
  {
   "cell_type": "markdown",
   "source": [
    "## 算法基本框架\n"
   ],
   "metadata": {
    "collapsed": false
   },
   "id": "49caed6f68e8c3d2"
  },
  {
   "cell_type": "code",
   "outputs": [],
   "source": [
    "class Solver:\n",
    "    \"\"\" 多臂老虎机算法基本框架 \"\"\"\n",
    "    def __init__(self, bandit):\n",
    "        self.bandit = bandit\n",
    "        self.counts = np.zeros(self.bandit.K)  # 每个臂被拉动的次数\n",
    "        self.regret = 0.\n",
    "        self.actions = []\n",
    "        self.regrets = []\n",
    "\n",
    "    def update_regret(self, k):\n",
    "        # 计算累积懊悔并保存\n",
    "        self.regret += self.bandit.best_prob - self.bandit.probs[k]\n",
    "        self.regrets.append(self.regret)\n",
    "\n",
    "    def run_one_step(self):\n",
    "        raise NotImplementedError   # 抽象方法，子类继承方法后若不重写则会报错\n",
    "\n",
    "    def run(self, num_steps):\n",
    "        for _ in range(num_steps):\n",
    "            k = self.run_one_step()\n",
    "            self.counts[k] += 1\n",
    "            self.actions.append(k)\n",
    "            self.update_regret(k)"
   ],
   "metadata": {
    "collapsed": false,
    "ExecuteTime": {
     "end_time": "2024-02-07T03:52:07.891278600Z",
     "start_time": "2024-02-07T03:52:07.859083700Z"
    }
   },
   "id": "b8d25360a24d3bc3",
   "execution_count": 5
  },
  {
   "cell_type": "markdown",
   "source": [
    "## 探索和利用的平衡\n",
    "**探索**(exploration)是尝试拉动更多可能的拉杆，这跟拉杆不一定会获得最大的奖励，但这种方案能够摸清楚所有拉杆的获奖情况。**利用**(exploitation)是指拉动已知期望奖励最大的那根拉杆，由于已知的信息仅仅来自有限次的交互观测，所以当前的最优拉杆不一定是全局最优的。"
   ],
   "metadata": {
    "collapsed": false
   },
   "id": "d3e5473dcce28267"
  },
  {
   "cell_type": "markdown",
   "source": [
    "## $\\epsilon$-贪心算法\n",
    "$\\epsilon$-贪婪算法在完全贪婪的基础上添加了噪声，每次以$1-\\epsilon$选择以往经验中期望奖励估值最大的那根拉杆（利用），以概率$\\epsilon$选择一根拉杆（探索），公示如下："
   ],
   "metadata": {
    "collapsed": false
   },
   "id": "5a48d3d89f5bb5a2"
  },
  {
   "cell_type": "code",
   "outputs": [],
   "source": [
    "class EpsilonGreedy(Solver):\n",
    "    \"\"\" ε-Greedy算法 \"\"\"\n",
    "    def __init__(self, bandit, epsilon=0.01, init_prob=1.0):\n",
    "        super(EpsilonGreedy, self).__init__(bandit)\n",
    "        self.epsilon = epsilon\n",
    "        self.estimates = np.array([init_prob] * self.bandit.K)\n",
    "\n",
    "    def run_one_step(self):\n",
    "        if np.random.random() < self.epsilon:\n",
    "            k = np.random.randint(0, self.bandit.K)     # 随机选择一个臂\n",
    "        else:\n",
    "            k = np.argmax(self.estimates)  # 选择当前平均收益最大的臂\n",
    "        r = self.bandit.step(k)\n",
    "        self.estimates[k] += 1.0 / (self.counts[k] + 1) * (r - self.estimates[k])\n",
    "        return k"
   ],
   "metadata": {
    "collapsed": false,
    "ExecuteTime": {
     "end_time": "2024-02-07T03:52:07.891278600Z",
     "start_time": "2024-02-07T03:52:07.871262100Z"
    }
   },
   "id": "67b4860f0874413b",
   "execution_count": 6
  },
  {
   "cell_type": "code",
   "outputs": [],
   "source": [
    "def plot_results(solvers, solver_names):\n",
    "    for idx, solver in enumerate(solvers):\n",
    "        time_list = range(len(solver.regrets))\n",
    "        plt.plot(time_list, solver.regrets, label=solver_names[idx])\n",
    "    plt.xlabel(\"Time\")\n",
    "    plt.ylabel(\"Cumulative Regret\")\n",
    "    plt.title('%d-armed bandit' % solvers[0].bandit.K)\n",
    "    plt.legend()\n",
    "    plt.show()"
   ],
   "metadata": {
    "collapsed": false,
    "ExecuteTime": {
     "end_time": "2024-02-07T03:52:07.920791200Z",
     "start_time": "2024-02-07T03:52:07.889236Z"
    }
   },
   "id": "529975034525a7b6",
   "execution_count": 7
  },
  {
   "cell_type": "code",
   "outputs": [
    {
     "data": {
      "text/plain": "<Figure size 432x288 with 1 Axes>",
      "image/png": "[encoded data removed]"
     },
     "metadata": {
      "needs_background": "light"
     },
     "output_type": "display_data"
    }
   ],
   "source": [
    "np.random.seed(0)\n",
    "epsilons = [1e-4, 0.01, 0.1, 0.25, 0.5]\n",
    "epsilon_greedy_solver_list = [\n",
    "        EpsilonGreedy(BernoulliBandit(10), epsilon=eps) for eps in epsilons]\n",
    "epsilon_greedy_solver_names = [\"epsilon={}\".format(eps) for eps in epsilons]\n",
    "for solver in epsilon_greedy_solver_list:\n",
    "    solver.run(5000)\n",
    "plot_results(epsilon_greedy_solver_list, epsilon_greedy_solver_names)"
   ],
   "metadata": {
    "collapsed": false,
    "ExecuteTime": {
     "end_time": "2024-02-07T03:52:08.386114400Z",
     "start_time": "2024-02-07T03:52:07.901278500Z"
    }
   },
   "id": "8ff2173b5611a34a",
   "execution_count": 8
  },
  {
   "cell_type": "markdown",
   "source": [
    "## 衰减$\\epsilon$-贪婪算法\n"
   ],
   "metadata": {
    "collapsed": false
   },
   "id": "32458ba0e0398add"
  },
  {
   "cell_type": "code",
   "outputs": [],
   "source": [
    "class DecayingEpsilonGreedy(Solver):\n",
    "    \"\"\"\" epsilon值随时间衰减的epsilon-贪婪算法,继承Solver类 \"\"\"\n",
    "    def __init__(self, bandit, init_prob=1.0):\n",
    "        super(DecayingEpsilonGreedy, self).__init__(bandit)\n",
    "        self.estimates = np.array([init_prob] * self.bandit.K)\n",
    "        self.total_count = 0\n",
    "\n",
    "    def run_one_step(self):\n",
    "        self.total_count += 1\n",
    "        if np.random.random() < 1 / self.total_count:  # epsilon值随时间衰减\n",
    "            k = np.random.randint(0, self.bandit.K)\n",
    "        else:\n",
    "            k = np.argmax(self.estimates)\n",
    "\n",
    "        r = self.bandit.step(k)\n",
    "        self.estimates[k] += 1. / (self.counts[k] + 1) * (r - self.estimates[k])\n",
    "\n",
    "        return k"
   ],
   "metadata": {
    "collapsed": false,
    "ExecuteTime": {
     "end_time": "2024-02-07T03:52:08.436077Z",
     "start_time": "2024-02-07T03:52:08.390324200Z"
    }
   },
   "id": "141c421ed0defeb",
   "execution_count": 9
  },
  {
   "cell_type": "code",
   "outputs": [
    {
     "name": "stdout",
     "output_type": "stream",
     "text": [
      "epsilon值衰减的贪婪算法的累积懊悔为： 10.82338899350856\n"
     ]
    },
    {
     "data": {
      "text/plain": "<Figure size 432x288 with 1 Axes>",
      "image/png": "[encoded data removed]"
     },
     "metadata": {
      "needs_background": "light"
     },
     "output_type": "display_data"
    }
   ],
   "source": [
    "np.random.seed(0)\n",
    "bandit_10_arm = BernoulliBandit(10)\n",
    "decaying_epsilon_greedy_solver = DecayingEpsilonGreedy(bandit_10_arm)\n",
    "decaying_epsilon_greedy_solver.run(5000)\n",
    "print('epsilon值衰减的贪婪算法的累积懊悔为：', decaying_epsilon_greedy_solver.regret)\n",
    "plot_results([decaying_epsilon_greedy_solver],[\"DecayingEpsilonGreedy\"])"
   ],
   "metadata": {
    "collapsed": false,
    "ExecuteTime": {
     "end_time": "2024-02-07T03:52:08.590145700Z",
     "start_time": "2024-02-07T03:52:08.401282300Z"
    }
   },
   "id": "a4a09d513d5adb23",
   "execution_count": 10
  },
  {
   "cell_type": "markdown",
   "source": [
    "## 上置信界算法\n",
    "### 算法原理\n",
    "上置信界(upper confidence bound, UCB) 算法是一种经典的基于不确定性的策略方法，它的思想用到了非常著名的数学原理：**霍夫丁不等式** (Hoeffding's inequality)。在霍夫丁不等式中，令$X_1,\\ldots,X_n$为$n$个独立同分布的随机变量，取值范围为$[0,1]$，其经验期望为$\\bar{x}_{n}=\\frac{1}{n}\\sum_{j=1}^{n}X_{j}$，则有 \n",
    "$$\\mathbb{P}\\left\\{\\mathbb{E}\\left[X\\right]\\geq\\bar{x}_n+u\\right\\}\\leq e^{-2nu^2}$$\n",
    "现在我们将霍夫丁不等式运用于多臂老虎机问题中。将$\\hat Q_t(a)$带入$\\bar x_t$，不等式中参数$u=\\hat U_t(a)$代表不确定性度量。给定一个概率$p=e^{-2N_t(a)U_t(a)^2}$，根据霍夫丁不等式，我们有\n",
    "$$Q_t(a)<\\hat{Q}_t(a)+\\hat{U}_t(a)$$\n",
    "至少以$1-p$成立。当$p$很小时，上式就医很大概率成立，即$\\hat{Q}_t(a)+\\hat{U}_t(a)$是$Q_t(a)$(期望奖励)的一个上界。  此时，上置信界算法便选取期望奖励上界最大的动作，即$$a=\\operatorname{argmax}_{a\\in\\mathcal{A}}\\left[\\hat{Q}(a)+\\hat{U}(a)\\right]$$\n",
    "其中，$\\hat U_t(a)$根据等式解得：$$\\hat{U}_t(a)=\\sqrt{\\frac{-\\log p}{2N_t(a)}}$$\n",
    "因此，设定一个概率$p$后即可计算相应的不确定性度量$\\hat U_t(a)$。 \\\n",
    "直观解释，UCB算法在每次选择拉杆前，先估计每根拉杆的期望奖励的上界，使得拉动每根拉杆的期望奖励只有一个较小的概率$p$超过这个上界，接着选出期望奖励上界的拉杆，从而选择最有可能获得最大期望奖励的拉杆。\n",
    "\n",
    "### 算法编写\n",
    "在具体实现过程中，设置$p=\\frac{1}{t}$，并且在坟墓中为拉动每根拉杆的次数加上常熟1，以避免出现分母为0的情况，即此时$$\\hat{U}_t(a)=\\sqrt{\\frac{\\log t}{2(N_t(a)+1)}}$$\n",
    "同时，设定一个系数$c$来控制不确定性的比重，此时$$a=\\arg\\max_{a\\in\\mathcal{A}}\\hat{Q}(a)+c\\cdot\\hat{U}(a)$$\n"
   ],
   "metadata": {
    "collapsed": false
   },
   "id": "452cfe9e2ba4df3b"
  },
  {
   "cell_type": "code",
   "outputs": [],
   "source": [
    "class UCB(Solver):\n",
    "    def __init__(self, bandit, coef, init_prob=1.0):\n",
    "        super(UCB, self).__init__(bandit)\n",
    "        self.total_count = 0\n",
    "        self.estimates = np.array([init_prob] * self.bandit.K)\n",
    "        self.coef = coef\n",
    "        \n",
    "    def run_one_step(self):\n",
    "        self.total_count += 1\n",
    "        ucb = self.estimates + self.coef * np.sqrt(np.log(self.total_count) / ( 2 * (self.counts + 1)))\n",
    "        k = np.argmax(ucb)\n",
    "        r = self.bandit.step(k)\n",
    "        self.estimates[k] += 1. / (self.counts[k] + 1) * (r - self.estimates[k])\n",
    "        return k"
   ],
   "metadata": {
    "collapsed": false,
    "ExecuteTime": {
     "end_time": "2024-02-07T03:52:08.603651400Z",
     "start_time": "2024-02-07T03:52:08.591181700Z"
    }
   },
   "id": "3ef33d45b2206c56",
   "execution_count": 11
  },
  {
   "cell_type": "code",
   "outputs": [
    {
     "name": "stdout",
     "output_type": "stream",
     "text": [
      "上置信界算法的累积懊悔为： 80.85283670372556\n"
     ]
    },
    {
     "data": {
      "text/plain": "<Figure size 432x288 with 1 Axes>",
      "image/png": "[encoded data removed]"
     },
     "metadata": {
      "needs_background": "light"
     },
     "output_type": "display_data"
    }
   ],
   "source": [
    "np.random.seed(0)\n",
    "coef = 1  # 控制不确定性比重的系数\n",
    "UCB_solver = UCB(bandit_10_arm, coef)\n",
    "UCB_solver.run(5000)\n",
    "print('上置信界算法的累积懊悔为：', UCB_solver.regret)\n",
    "plot_results([UCB_solver], [\"UCB\"])"
   ],
   "metadata": {
    "collapsed": false,
    "ExecuteTime": {
     "end_time": "2024-02-07T03:52:08.836213200Z",
     "start_time": "2024-02-07T03:52:08.705011500Z"
    }
   },
   "id": "abdb3a8fa1c78313",
   "execution_count": 12
  },
  {
   "cell_type": "markdown",
   "source": [
    "## 汤普森采样算法\n",
    "### 基本思路\n",
    "汤普森采样(Thompson sampling)，先假设拉动每根拉杆的奖励服从一个特定的概率分布，然后根据拉动每根拉杆的期望奖励来选择。但是由于己算所有拉杆的期望奖励的代加比较高，汤普森采样使用**采样**的方式，即根据当前每个动作$a$的奖励概率分布进行一轮采样，得到一组根据拉杆的奖励样本，再选择样本中奖励最大的动作。 \\\n",
    "可以看出，汤普森采样是一种计算所有拉杆的最高奖励概率的蒙特卡洛采样方法。\n",
    "### 算法实现\n",
    "了解了汤普森采样算法的基本思路后，我们需要解决另一个问题：怎样得到当前每个动作$a$的奖励概率分布并且在过程中进行更新？\\\n",
    "在实现过程中，通常使用**Beta分布**对当前每个动作的奖励概率分布进行建模。具体来说，若某拉杆被选择了$k$次，其中$m_1$次奖励为1，$m_2$次奖励为0，则该拉杆的奖励服从参数为$(m_1+1,m_2+1)$的Beta分布。 \\\n"
   ],
   "metadata": {
    "collapsed": false
   },
   "id": "effdd7740af655ad"
  },
  {
   "cell_type": "code",
   "outputs": [],
   "source": [
    "class ThompsonSampling(Solver):\n",
    "    def __init__(self, bandit, init_a=1, init_b=1):\n",
    "        super(ThompsonSampling, self).__init__(bandit)\n",
    "        self._a = np.array([init_a] * self.bandit.K)\n",
    "        self._b = np.array([init_b] * self.bandit.K)\n",
    "        \n",
    "    def run_one_step(self):\n",
    "        samples = np.random.beta(self._a, self._b)\n",
    "        k = np.argmax(samples)\n",
    "        r = self.bandit.step(k)\n",
    "        self._a[k] += r\n",
    "        self._b[k] += 1 - r\n",
    "        return k"
   ],
   "metadata": {
    "collapsed": false,
    "ExecuteTime": {
     "end_time": "2024-02-07T03:52:08.877301100Z",
     "start_time": "2024-02-07T03:52:08.836213200Z"
    }
   },
   "id": "81712cd691f2ab10",
   "execution_count": 13
  },
  {
   "cell_type": "code",
   "outputs": [
    {
     "name": "stdout",
     "output_type": "stream",
     "text": [
      "汤普森采样算法的累积懊悔为： 25.543567041570626\n"
     ]
    },
    {
     "data": {
      "text/plain": "<Figure size 432x288 with 1 Axes>",
      "image/png": "[encoded data removed]"
     },
     "metadata": {
      "needs_background": "light"
     },
     "output_type": "display_data"
    }
   ],
   "source": [
    "np.random.seed(1)\n",
    "thompson_sampling_solver = ThompsonSampling(bandit_10_arm)\n",
    "thompson_sampling_solver.run(5000)\n",
    "print('汤普森采样算法的累积懊悔为：', thompson_sampling_solver.regret)\n",
    "plot_results([thompson_sampling_solver], [\"ThompsonSampling\"])"
   ],
   "metadata": {
    "collapsed": false,
    "ExecuteTime": {
     "end_time": "2024-02-07T03:52:09.131258300Z",
     "start_time": "2024-02-07T03:52:08.854872800Z"
    }
   },
   "id": "be9d21c8a8300b87",
   "execution_count": 14
  },
  {
   "cell_type": "markdown",
   "source": [
    "## 总结\n",
    "### 算法比较\n",
    "通过实验我们可以得出以下结论：$\\epsilon$-贪婪算法的累积懊悔是随时间线性增长的，而另外的三种算法的累积懊悔都是随时间次线性增长的（具体为对数形式增长）。\n",
    "### MAB与RL\n",
    "多臂老虎机问题与强化学习的一大区别在于其与环境的交互并不会改变环境，即多臂老虎机的每次交互的结果和以往的动作无关，所以可看作**无状态的强化学习** (Stateless Reinforcement Learning)。"
   ],
   "metadata": {
    "collapsed": false
   },
   "id": "48947a7ae03b6d9"
  }
 ],
 "metadata": {
  "kernelspec": {
   "display_name": "Python 3",
   "language": "python",
   "name": "python3"
  },
  "language_info": {
   "codemirror_mode": {
    "name": "ipython",
    "version": 2
   },
   "file_extension": ".py",
   "mimetype": "text/x-python",
   "name": "python",
   "nbconvert_exporter": "python",
   "pygments_lexer": "ipython2",
   "version": "2.7.6"
  }
 },
 "nbformat": 4,
 "nbformat_minor": 5
}
